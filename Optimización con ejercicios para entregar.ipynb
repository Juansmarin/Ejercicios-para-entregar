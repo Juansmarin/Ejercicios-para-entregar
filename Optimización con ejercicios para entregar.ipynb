{
 "cells": [
  {
   "cell_type": "code",
   "execution_count": 113,
   "metadata": {},
   "outputs": [],
   "source": [
    "from sympy import * \n",
    "from sympy.plotting import * \n",
    "from IPython.core.display import display,HTML\n",
    "init_printing(use_latex=True)  "
   ]
  },
  {
   "cell_type": "code",
   "execution_count": 166,
   "metadata": {},
   "outputs": [],
   "source": [
    "x,y,z,w, L, K, x1,x2,x3, a,b,c,p1,p2 = symbols(\"x,y,z,w, L, K, x1,x2,x3, a,b,c,p1,p2\")"
   ]
  },
  {
   "cell_type": "markdown",
   "metadata": {},
   "source": [
    "# Optimización de funciones en varias variables\n",
    "\n",
    "Recordemos que en la clase pasada aprendimos los paso para optimizar una función en varias variables:\n",
    "\n",
    "\n",
    "1.  Definir la función\n",
    "2.  Definir las variables de nuestra función\n",
    "3.  Encontrar su vector gradiente\n",
    "4.  Encontrar sus puntos críticos\n",
    "5.  Clasificar cada uno de los puntos críticos hallados.\n",
    "6.  Hallar los valores máximos y mínimos de la función."
   ]
  },
  {
   "cell_type": "code",
   "execution_count": 157,
   "metadata": {},
   "outputs": [],
   "source": [
    "def Optimizarvv(f,X): # Función, lista de varables\n",
    "    display(HTML(\"La función ingresada es $\"+ latex(f)+ \"$ y es una función de \"+ str(len(X))+ \" variables\"))\n",
    "    if len(X)==2:\n",
    "        Gf=[diff(f,X[0]), diff(f,X[1])]\n",
    "        display(HTML(\"Su vector gradiente es: $\"+ latex(Gf)+\"$\"))\n",
    "        pc=solve(Gf,X)\n",
    "        if type(pc)!=list:\n",
    "            pc=[(pc[x],pc[y])]\n",
    "        display(HTML(\"Sus puntos críticos son: $\"+ latex(pc)+\"$\"))\n",
    "        Hf=Matrix([[diff(Gf[0],X[0]), diff(Gf[0],X[1])],[diff(Gf[1],X[0]), diff(Gf[1],X[1])]]) # Matriz Hessiana\n",
    "        display(HTML(\"Su matriz Hessiana es: $\"+ latex(Hf)+\"$\"))\n",
    "        print(\" \")\n",
    "        for i in range(len(pc)):\n",
    "            display(HTML(\"Para el punto crítico $\"+ latex(pc[i])+ \"$ se tienen los siguientes datos: \"))\n",
    "            Hf=Hf.subs([(X[0],pc[i][0]),(X[1],pc[i][1])])\n",
    "            D1=det(Hf[0:1,0:1])\n",
    "            display(HTML(\"Su primer determinante principal es: \"+ str(D1) ))\n",
    "            D2=det(Hf[0:2,0:2])\n",
    "            display(HTML(\"Su Segundo determinante principal es: \"+ str(D2) ))\n",
    "            display(HTML(\"Clasifique AHORA el punto crítico  $\"+ latex(pc[i])+\"$\"))\n",
    "            m=f.subs([(X[0],pc[i][0]),(X[1],pc[i][1])])\n",
    "            display(HTML(\"La evaluación de la función en el punto: $\"+ latex(pc[i])+ \"$  es: $\"+ latex(m)+\"$\"))\n",
    "            display(HTML(\"Determine si  $\"+ latex(m) +\"$ es un valor máximo, mínimo de la función o ninguno de los dos.\"))\n",
    "            print(\" \")\n",
    "    return \n"
   ]
  },
  {
   "cell_type": "code",
   "execution_count": 165,
   "metadata": {},
   "outputs": [
    {
     "data": {
      "text/html": [
       "La función ingresada es $x^{2} + 2 x y - y^{2}$ y es una función de 2 variables"
      ],
      "text/plain": [
       "<IPython.core.display.HTML object>"
      ]
     },
     "metadata": {},
     "output_type": "display_data"
    },
    {
     "data": {
      "text/html": [
       "Su vector gradiente es: $\\left[ 2 x + 2 y, \\  2 x - 2 y\\right]$"
      ],
      "text/plain": [
       "<IPython.core.display.HTML object>"
      ]
     },
     "metadata": {},
     "output_type": "display_data"
    },
    {
     "data": {
      "text/html": [
       "Sus puntos críticos son: $\\left[ \\left( 0, \\  0\\right)\\right]$"
      ],
      "text/plain": [
       "<IPython.core.display.HTML object>"
      ]
     },
     "metadata": {},
     "output_type": "display_data"
    },
    {
     "data": {
      "text/html": [
       "Su matriz Hessiana es: $\\left[\\begin{matrix}2 & 2\\\\2 & -2\\end{matrix}\\right]$"
      ],
      "text/plain": [
       "<IPython.core.display.HTML object>"
      ]
     },
     "metadata": {},
     "output_type": "display_data"
    },
    {
     "name": "stdout",
     "output_type": "stream",
     "text": [
      " \n"
     ]
    },
    {
     "data": {
      "text/html": [
       "Para el punto crítico $\\left( 0, \\  0\\right)$ se tienen los siguientes datos: "
      ],
      "text/plain": [
       "<IPython.core.display.HTML object>"
      ]
     },
     "metadata": {},
     "output_type": "display_data"
    },
    {
     "data": {
      "text/html": [
       "Su primer determinante principal es: 2"
      ],
      "text/plain": [
       "<IPython.core.display.HTML object>"
      ]
     },
     "metadata": {},
     "output_type": "display_data"
    },
    {
     "data": {
      "text/html": [
       "Su Segundo determinante principal es: -8"
      ],
      "text/plain": [
       "<IPython.core.display.HTML object>"
      ]
     },
     "metadata": {},
     "output_type": "display_data"
    },
    {
     "data": {
      "text/html": [
       "Clasifique AHORA el punto crítico  $\\left( 0, \\  0\\right)$"
      ],
      "text/plain": [
       "<IPython.core.display.HTML object>"
      ]
     },
     "metadata": {},
     "output_type": "display_data"
    },
    {
     "data": {
      "text/html": [
       "La evaluación de la función en el punto: $\\left( 0, \\  0\\right)$  es: $0$"
      ],
      "text/plain": [
       "<IPython.core.display.HTML object>"
      ]
     },
     "metadata": {},
     "output_type": "display_data"
    },
    {
     "data": {
      "text/html": [
       "Determine si  $0$ es un valor máximo, mínimo de la función o ninguno de los dos."
      ],
      "text/plain": [
       "<IPython.core.display.HTML object>"
      ]
     },
     "metadata": {},
     "output_type": "display_data"
    },
    {
     "name": "stdout",
     "output_type": "stream",
     "text": [
      " \n"
     ]
    }
   ],
   "source": [
    "Optimizarvv(x**2+2*x*y-y**2,[x,y])"
   ]
  },
  {
   "cell_type": "markdown",
   "metadata": {},
   "source": [
    "# Ejercicios para entregar\n",
    "\n",
    "1. Encuentre los valores máximos y mínimos de cada una de las siguientes funciones\n",
    "\n",
    "a. $f(x, y) = −x^4 − 32x + y^3 − 12y + 7$\n",
    "\n",
    "b. $f(x, y) = x^2 + 2y^2 − 2x − 2y + 1$\n",
    "\n",
    "c. $f(x, y) = x^2 + 4xy + y^2$\n",
    "\n",
    "d. $f(x, y) = x^3 + y^3 − 12x − 3y$\n",
    "\n",
    "e. $f(x, y) = (x − 2)(y − 2)(x + y − 3)$\n",
    "\n",
    "f. $f(x, y) = 2x^2 + y^2 − ln(xy^2)$\n",
    "\n",
    "2. Resolver los siguientes problemas e interpretar los datos en el contexto específico.\n",
    "\n",
    "a.  Para los productos A y B, la función de costos conjuntos es \n",
    "\n",
    "$$C = 1.5x^2 + 4.5y^2,$$ y las funciones de demanda\n",
    "para los productos A y B, respectivamente, son: $p_A = 36−x^2$ y $p_B = 30−y^2$. Donde $x$ y $y$, son las cantidades de los productos A y B, respectivamente. Determine el nivel de producción que maximiza la utilidad. ¿Cuál\n",
    "es la utilidad máxima?\n",
    "\n",
    "b.  Juguetes Mónica produce dos tipos diferentes de cochecitos de plástico con un costo de 10¢ y 30¢ cada uno.\n",
    "Las demandas anuales $x_1$ y $x_2$ (en miles) están dadas por $x_1 = 30 + 2p_2 − 5p_1$ y $x_2 = 100 + p_1 − 2p_2$\n",
    "con $p_1$ y $p_2$ los precios unitarios (en centavos) de los dos tipos de cochecitos. Determine los precios $p_1$ y $p_2$\n",
    "que la compañia debe fijar para maximizar sus utilidades\n",
    "\n",
    "c. Si $x$ denota la\n",
    "producción de la empresa (en cientos) y $y$ la cantidad gastada\n",
    "(en miles de dólares) en los esfuerzos promocionales\n",
    "de vender el producto, entonces la utilidad de la empresa $P$\n",
    "(en miles de dólares) está dada por \n",
    "$$P(x, y) = 16x + 12y +\n",
    "2xy - x^2 - 2y^2 - 7.$$ ¿Qué valores de $x$ y $y$ producirán la\n",
    "utilidad máxima? ¿Cuál es la utilidad máxima?\n",
    "\n",
    "d. El\n",
    "costo total $C$ por serie de producción (en miles de dólares)\n",
    "de cierta industria está dado por $$C(x, y) = 3x^2 + 4y^2 - 5xy\n",
    "+ 3x - 14y + 20$$ en donde $x$ denota el número de horashombre\n",
    "(en cientos) y $y$ el número de unidades (en miles)\n",
    "del producto elaboradas por serie. ¿Qué valores de $x$ y $y$ darán\n",
    "como resultado.\n",
    "\n",
    "e.  Usando $L$ unidades de mano de obra\n",
    "y $K$ unidades de capital, la producción semanal total de una\n",
    "empresa está dada por $$P(L, K) = 20K + 32L +3LK - 2L^2 \n",
    "- 2.5K^2.$$ Halle el número de unidades de mano de obra y\n",
    "de capital que la empresa debe utilizar para maximizar su\n",
    "producción."
   ]
  },
  {
   "cell_type": "code",
   "execution_count": null,
   "metadata": {},
   "outputs": [],
   "source": []
  }
 ],
 "metadata": {
  "kernelspec": {
   "display_name": "Python 3",
   "language": "python",
   "name": "python3"
  },
  "language_info": {
   "codemirror_mode": {
    "name": "ipython",
    "version": 3
   },
   "file_extension": ".py",
   "mimetype": "text/x-python",
   "name": "python",
   "nbconvert_exporter": "python",
   "pygments_lexer": "ipython3",
   "version": "3.7.1"
  },
  "latex_envs": {
   "LaTeX_envs_menu_present": true,
   "autoclose": false,
   "autocomplete": true,
   "bibliofile": "biblio.bib",
   "cite_by": "apalike",
   "current_citInitial": 1,
   "eqLabelWithNumbers": true,
   "eqNumInitial": 1,
   "hotkeys": {
    "equation": "Ctrl-E",
    "itemize": "Ctrl-I"
   },
   "labels_anchors": false,
   "latex_user_defs": false,
   "report_style_numbering": false,
   "user_envs_cfg": false
  },
  "toc": {
   "base_numbering": 1,
   "nav_menu": {},
   "number_sections": true,
   "sideBar": true,
   "skip_h1_title": false,
   "title_cell": "Table of Contents",
   "title_sidebar": "Contents",
   "toc_cell": false,
   "toc_position": {},
   "toc_section_display": true,
   "toc_window_display": false
  }
 },
 "nbformat": 4,
 "nbformat_minor": 2
}
